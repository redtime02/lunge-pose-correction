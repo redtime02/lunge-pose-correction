{
 "cells": [
  {
   "cell_type": "code",
   "execution_count": 23,
   "metadata": {},
   "outputs": [],
   "source": [
    "import numpy as np\n",
    "import pandas as pd\n",
    "import matplotlib.pyplot as plt\n",
    "\n",
    "from keras.layers import LSTM, Dense, Dropout, InputLayer, Reshape\n",
    "from keras. models import Sequential\n",
    "from keras.callbacks import EarlyStopping\n",
    "\n",
    "from sklearn.model_selection import train_test_split\n",
    "\n",
    "RANDOM_STATE = 42\n",
    "\n",
    "landmark = \"lunge_landmark_list.csv\""
   ]
  },
  {
   "cell_type": "code",
   "execution_count": 24,
   "metadata": {},
   "outputs": [],
   "source": [
    "import numpy as np\n",
    "import pandas as pd\n",
    "import matplotlib.pyplot as plt\n",
    "\n",
    "from keras.layers import LSTM, Dense, Dropout, InputLayer, Reshape\n",
    "from keras. models import Sequential\n",
    "from keras.callbacks import EarlyStopping\n",
    "\n",
    "from sklearn.model_selection import train_test_split\n",
    "\n",
    "RANDOM_STATE = 42\n",
    "\n",
    "landmark = \"lunge_landmark_list.csv\""
   ]
  },
  {
   "cell_type": "code",
   "execution_count": 25,
   "metadata": {},
   "outputs": [
    {
     "name": "stdout",
     "output_type": "stream",
     "text": [
      "[[ 0.34592879  0.32745191 -0.00137423  0.99994683  0.35409832  0.31430691\n",
      "  -0.0217468   0.99995708  0.35550424  0.31444573 -0.02176742  0.99995041\n",
      "   0.35691568  0.31459197 -0.0217938   0.99997139  0.35387051  0.31367755\n",
      "   0.01579606  0.99995553  0.35514283  0.31335637  0.01585071  0.99994731\n",
      "   0.35644278  0.31293461  0.01591424  0.99995661  0.37019742  0.32391652\n",
      "  -0.08088129  0.99996793  0.36930031  0.32123825  0.09025352  0.99984097\n",
      "   0.35083517  0.34264371 -0.02279375  0.99991882  0.35002196  0.34214863\n",
      "   0.02638373  0.9998005   0.38755843  0.40842646 -0.16615535  0.99997628\n",
      "   0.38819054  0.39890391  0.18014731  0.99820292  0.41594759  0.60155874\n",
      "  -0.09926461  0.9998672   0.39692578  0.59816897  0.09917521  0.99966896\n",
      "   0.52362865  0.69475889 -0.20143154  0.99939549  0.29253498  0.61128211\n",
      "   0.07909784  0.98536521  0.6360321   0.77145058 -0.20594129  0.9994185\n",
      "   0.29931056  0.77774131  0.12643771  0.98942357  0.6601873   0.77480465\n",
      "  -0.20636328  0.99358529  0.31418335  0.80474532  0.12903734  0.97917068\n",
      "   0.61474389  0.82675409 -0.28628191  0.99842948  0.25376177  0.81192613\n",
      "   0.1098442   0.97982222]\n",
      " [ 0.4572235   0.35841185 -0.09089889  0.99380356  0.45366025  0.35217676\n",
      "  -0.09290862  0.99163014  0.45146269  0.35172597 -0.0929231   0.99012464\n",
      "   0.44928187  0.35132891 -0.09289345  0.99346888  0.45661983  0.35427883\n",
      "  -0.11641084  0.99643558  0.45661744  0.35501611 -0.11650005  0.99582648\n",
      "   0.45659822  0.35577056 -0.11664564  0.99666643  0.43732736  0.3540484\n",
      "  -0.08194812  0.9893077   0.44726828  0.36070743 -0.18414745  0.99531287\n",
      "   0.45007128  0.36656877 -0.08018672  0.99450362  0.45412147  0.36779782\n",
      "  -0.11055038  0.99622768  0.41620573  0.40772507 -0.01008935  0.99932379\n",
      "   0.43652692  0.41448134 -0.23141707  0.99826878  0.42810124  0.58478552\n",
      "   0.07882334  0.99851251  0.43718928  0.59674174 -0.07891834  0.99926049\n",
      "   0.44821253  0.69606012  0.11107776  0.91943812  0.45699441  0.69029927\n",
      "  -0.12858191  0.96383929  0.36915433  0.76839972  0.19027343  0.92581135\n",
      "   0.36025614  0.77749342 -0.0610787   0.97719276  0.3461934   0.77552146\n",
      "   0.19629441  0.92784083  0.33805981  0.79106224 -0.05427927  0.97203606\n",
      "   0.38447213  0.82368743  0.16457614  0.93497449  0.38204065  0.82581055\n",
      "  -0.09165901  0.97226518]]\n"
     ]
    }
   ],
   "source": [
    "val_data = pd.read_csv(\"lunge_landmark.csv\",header=None)\n",
    "predict_val = []\n",
    "predict_val = val_data.iloc[:,1:-1].values\n",
    "\n",
    "predict_val = np.array(predict_val)\n",
    "print(predict_val)"
   ]
  },
  {
   "cell_type": "code",
   "execution_count": 26,
   "metadata": {},
   "outputs": [
    {
     "name": "stdout",
     "output_type": "stream",
     "text": [
      "[ 0.49941322  0.19243126 -0.4169195   0.99442202  0.51009083  0.18804693\n",
      " -0.39220783  0.99245971  0.51292938  0.18821426 -0.392288    0.99109983\n",
      "  0.51555359  0.18826306 -0.39233884  0.99410725  0.49965274  0.18903355\n",
      " -0.40044358  0.9967829   0.49758485  0.18990533 -0.40057692  0.99622613\n",
      "  0.49265704  0.19104782 -0.40065125  0.99697864  0.51676697  0.19490921\n",
      " -0.25315356  0.99035287  0.48944783  0.18098553 -0.26518282  0.99576569\n",
      "  0.50742865  0.18980342 -0.36282507  0.99504781  0.49365214  0.20534068\n",
      " -0.37187013  0.99659884  0.5453971   0.29321957 -0.14677058  0.99877632\n",
      "  0.44944644  0.28745887 -0.17851233  0.99772882  0.5322051   0.55098879\n",
      "  0.01869707  0.99857742  0.46430793  0.55409884 -0.01897386  0.99928093\n",
      "  0.61963516  0.71426362 -0.11948317  0.92427093  0.3347404   0.65855771\n",
      " -0.30570242  0.96686077  0.70053023  0.85394764  0.06048177  0.93089974\n",
      "  0.32139033  0.89869326 -0.14513992  0.97934091  0.70169139  0.87070388\n",
      "  0.0739096   0.93256104  0.34476623  0.89381635 -0.1362444   0.97388494\n",
      "  0.7127189   0.89681625 -0.05032403  0.93850225  0.26688933  0.96059835\n",
      " -0.28952456  0.97425646]\n",
      "0\n",
      "(1879, 92) (1879,)\n"
     ]
    }
   ],
   "source": [
    "lunge_data = pd.read_csv(landmark, header=None)\n",
    "\n",
    "X = []\n",
    "y = []\n",
    "\n",
    "X = lunge_data.iloc[:,1:-1].values\n",
    "print (X[0])\n",
    "y = lunge_data.iloc[:,-1].values\n",
    "print (y[0])\n",
    "    \n",
    "X, y = np.array(X), np.array(y)\n",
    "print(X.shape, y.shape)"
   ]
  },
  {
   "cell_type": "code",
   "execution_count": 27,
   "metadata": {},
   "outputs": [],
   "source": [
    "#shuffle and split training and test data\n",
    "X_train, X_test, y_train, y_test = train_test_split(X, y, test_size=0.2, random_state=RANDOM_STATE, shuffle=True)"
   ]
  },
  {
   "cell_type": "code",
   "execution_count": 28,
   "metadata": {},
   "outputs": [
    {
     "data": {
      "text/html": [
       "<pre style=\"white-space:pre;overflow-x:auto;line-height:normal;font-family:Menlo,'DejaVu Sans Mono',consolas,'Courier New',monospace\"><span style=\"font-weight: bold\">Model: \"sequential_5\"</span>\n",
       "</pre>\n"
      ],
      "text/plain": [
       "\u001b[1mModel: \"sequential_5\"\u001b[0m\n"
      ]
     },
     "metadata": {},
     "output_type": "display_data"
    },
    {
     "data": {
      "text/html": [
       "<pre style=\"white-space:pre;overflow-x:auto;line-height:normal;font-family:Menlo,'DejaVu Sans Mono',consolas,'Courier New',monospace\">┏━━━━━━━━━━━━━━━━━━━━━━━━━━━━━━━━━┳━━━━━━━━━━━━━━━━━━━━━━━━┳━━━━━━━━━━━━━━━┓\n",
       "┃<span style=\"font-weight: bold\"> Layer (type)                    </span>┃<span style=\"font-weight: bold\"> Output Shape           </span>┃<span style=\"font-weight: bold\">       Param # </span>┃\n",
       "┡━━━━━━━━━━━━━━━━━━━━━━━━━━━━━━━━━╇━━━━━━━━━━━━━━━━━━━━━━━━╇━━━━━━━━━━━━━━━┩\n",
       "│ reshape (<span style=\"color: #0087ff; text-decoration-color: #0087ff\">Reshape</span>)               │ (<span style=\"color: #00d7ff; text-decoration-color: #00d7ff\">None</span>, <span style=\"color: #00af00; text-decoration-color: #00af00\">1</span>, <span style=\"color: #00af00; text-decoration-color: #00af00\">92</span>)          │             <span style=\"color: #00af00; text-decoration-color: #00af00\">0</span> │\n",
       "├─────────────────────────────────┼────────────────────────┼───────────────┤\n",
       "│ lstm_4 (<span style=\"color: #0087ff; text-decoration-color: #0087ff\">LSTM</span>)                   │ (<span style=\"color: #00d7ff; text-decoration-color: #00d7ff\">None</span>, <span style=\"color: #00af00; text-decoration-color: #00af00\">50</span>)             │        <span style=\"color: #00af00; text-decoration-color: #00af00\">28,600</span> │\n",
       "├─────────────────────────────────┼────────────────────────┼───────────────┤\n",
       "│ dense_6 (<span style=\"color: #0087ff; text-decoration-color: #0087ff\">Dense</span>)                 │ (<span style=\"color: #00d7ff; text-decoration-color: #00d7ff\">None</span>, <span style=\"color: #00af00; text-decoration-color: #00af00\">20</span>)             │         <span style=\"color: #00af00; text-decoration-color: #00af00\">1,020</span> │\n",
       "├─────────────────────────────────┼────────────────────────┼───────────────┤\n",
       "│ dropout_4 (<span style=\"color: #0087ff; text-decoration-color: #0087ff\">Dropout</span>)             │ (<span style=\"color: #00d7ff; text-decoration-color: #00d7ff\">None</span>, <span style=\"color: #00af00; text-decoration-color: #00af00\">20</span>)             │             <span style=\"color: #00af00; text-decoration-color: #00af00\">0</span> │\n",
       "├─────────────────────────────────┼────────────────────────┼───────────────┤\n",
       "│ dense_7 (<span style=\"color: #0087ff; text-decoration-color: #0087ff\">Dense</span>)                 │ (<span style=\"color: #00d7ff; text-decoration-color: #00d7ff\">None</span>, <span style=\"color: #00af00; text-decoration-color: #00af00\">10</span>)             │           <span style=\"color: #00af00; text-decoration-color: #00af00\">210</span> │\n",
       "├─────────────────────────────────┼────────────────────────┼───────────────┤\n",
       "│ dropout_5 (<span style=\"color: #0087ff; text-decoration-color: #0087ff\">Dropout</span>)             │ (<span style=\"color: #00d7ff; text-decoration-color: #00d7ff\">None</span>, <span style=\"color: #00af00; text-decoration-color: #00af00\">10</span>)             │             <span style=\"color: #00af00; text-decoration-color: #00af00\">0</span> │\n",
       "├─────────────────────────────────┼────────────────────────┼───────────────┤\n",
       "│ dense_8 (<span style=\"color: #0087ff; text-decoration-color: #0087ff\">Dense</span>)                 │ (<span style=\"color: #00d7ff; text-decoration-color: #00d7ff\">None</span>, <span style=\"color: #00af00; text-decoration-color: #00af00\">2</span>)              │            <span style=\"color: #00af00; text-decoration-color: #00af00\">22</span> │\n",
       "└─────────────────────────────────┴────────────────────────┴───────────────┘\n",
       "</pre>\n"
      ],
      "text/plain": [
       "┏━━━━━━━━━━━━━━━━━━━━━━━━━━━━━━━━━┳━━━━━━━━━━━━━━━━━━━━━━━━┳━━━━━━━━━━━━━━━┓\n",
       "┃\u001b[1m \u001b[0m\u001b[1mLayer (type)                   \u001b[0m\u001b[1m \u001b[0m┃\u001b[1m \u001b[0m\u001b[1mOutput Shape          \u001b[0m\u001b[1m \u001b[0m┃\u001b[1m \u001b[0m\u001b[1m      Param #\u001b[0m\u001b[1m \u001b[0m┃\n",
       "┡━━━━━━━━━━━━━━━━━━━━━━━━━━━━━━━━━╇━━━━━━━━━━━━━━━━━━━━━━━━╇━━━━━━━━━━━━━━━┩\n",
       "│ reshape (\u001b[38;5;33mReshape\u001b[0m)               │ (\u001b[38;5;45mNone\u001b[0m, \u001b[38;5;34m1\u001b[0m, \u001b[38;5;34m92\u001b[0m)          │             \u001b[38;5;34m0\u001b[0m │\n",
       "├─────────────────────────────────┼────────────────────────┼───────────────┤\n",
       "│ lstm_4 (\u001b[38;5;33mLSTM\u001b[0m)                   │ (\u001b[38;5;45mNone\u001b[0m, \u001b[38;5;34m50\u001b[0m)             │        \u001b[38;5;34m28,600\u001b[0m │\n",
       "├─────────────────────────────────┼────────────────────────┼───────────────┤\n",
       "│ dense_6 (\u001b[38;5;33mDense\u001b[0m)                 │ (\u001b[38;5;45mNone\u001b[0m, \u001b[38;5;34m20\u001b[0m)             │         \u001b[38;5;34m1,020\u001b[0m │\n",
       "├─────────────────────────────────┼────────────────────────┼───────────────┤\n",
       "│ dropout_4 (\u001b[38;5;33mDropout\u001b[0m)             │ (\u001b[38;5;45mNone\u001b[0m, \u001b[38;5;34m20\u001b[0m)             │             \u001b[38;5;34m0\u001b[0m │\n",
       "├─────────────────────────────────┼────────────────────────┼───────────────┤\n",
       "│ dense_7 (\u001b[38;5;33mDense\u001b[0m)                 │ (\u001b[38;5;45mNone\u001b[0m, \u001b[38;5;34m10\u001b[0m)             │           \u001b[38;5;34m210\u001b[0m │\n",
       "├─────────────────────────────────┼────────────────────────┼───────────────┤\n",
       "│ dropout_5 (\u001b[38;5;33mDropout\u001b[0m)             │ (\u001b[38;5;45mNone\u001b[0m, \u001b[38;5;34m10\u001b[0m)             │             \u001b[38;5;34m0\u001b[0m │\n",
       "├─────────────────────────────────┼────────────────────────┼───────────────┤\n",
       "│ dense_8 (\u001b[38;5;33mDense\u001b[0m)                 │ (\u001b[38;5;45mNone\u001b[0m, \u001b[38;5;34m2\u001b[0m)              │            \u001b[38;5;34m22\u001b[0m │\n",
       "└─────────────────────────────────┴────────────────────────┴───────────────┘\n"
      ]
     },
     "metadata": {},
     "output_type": "display_data"
    },
    {
     "data": {
      "text/html": [
       "<pre style=\"white-space:pre;overflow-x:auto;line-height:normal;font-family:Menlo,'DejaVu Sans Mono',consolas,'Courier New',monospace\"><span style=\"font-weight: bold\"> Total params: </span><span style=\"color: #00af00; text-decoration-color: #00af00\">29,852</span> (116.61 KB)\n",
       "</pre>\n"
      ],
      "text/plain": [
       "\u001b[1m Total params: \u001b[0m\u001b[38;5;34m29,852\u001b[0m (116.61 KB)\n"
      ]
     },
     "metadata": {},
     "output_type": "display_data"
    },
    {
     "data": {
      "text/html": [
       "<pre style=\"white-space:pre;overflow-x:auto;line-height:normal;font-family:Menlo,'DejaVu Sans Mono',consolas,'Courier New',monospace\"><span style=\"font-weight: bold\"> Trainable params: </span><span style=\"color: #00af00; text-decoration-color: #00af00\">29,852</span> (116.61 KB)\n",
       "</pre>\n"
      ],
      "text/plain": [
       "\u001b[1m Trainable params: \u001b[0m\u001b[38;5;34m29,852\u001b[0m (116.61 KB)\n"
      ]
     },
     "metadata": {},
     "output_type": "display_data"
    },
    {
     "data": {
      "text/html": [
       "<pre style=\"white-space:pre;overflow-x:auto;line-height:normal;font-family:Menlo,'DejaVu Sans Mono',consolas,'Courier New',monospace\"><span style=\"font-weight: bold\"> Non-trainable params: </span><span style=\"color: #00af00; text-decoration-color: #00af00\">0</span> (0.00 B)\n",
       "</pre>\n"
      ],
      "text/plain": [
       "\u001b[1m Non-trainable params: \u001b[0m\u001b[38;5;34m0\u001b[0m (0.00 B)\n"
      ]
     },
     "metadata": {},
     "output_type": "display_data"
    }
   ],
   "source": [
    "# Build model\n",
    "model = Sequential()\n",
    "model.add(InputLayer(shape=(92,)))\n",
    "model.add(Reshape((1, 92)))\n",
    "model.add(LSTM(50, activation='relu'))\n",
    "model.add(Dense(20, activation=\"relu\"))\n",
    "model.add(Dropout(0.2))\n",
    "model.add(Dense(10, activation=\"relu\"))\n",
    "model.add(Dropout(0.2))\n",
    "model.add(Dense(units=2, activation=\"softmax\"))\n",
    "model.compile(optimizer=\"adam\", metrics=['accuracy'], loss=\"sparse_categorical_crossentropy\")\n",
    "model.summary()"
   ]
  },
  {
   "cell_type": "code",
   "execution_count": 29,
   "metadata": {},
   "outputs": [
    {
     "name": "stdout",
     "output_type": "stream",
     "text": [
      "Epoch 1/500\n"
     ]
    },
    {
     "name": "stdout",
     "output_type": "stream",
     "text": [
      "\u001b[1m47/47\u001b[0m \u001b[32m━━━━━━━━━━━━━━━━━━━━\u001b[0m\u001b[37m\u001b[0m \u001b[1m6s\u001b[0m 17ms/step - accuracy: 0.5318 - loss: 0.6906 - val_accuracy: 0.7926 - val_loss: 0.6408\n",
      "Epoch 2/500\n",
      "\u001b[1m47/47\u001b[0m \u001b[32m━━━━━━━━━━━━━━━━━━━━\u001b[0m\u001b[37m\u001b[0m \u001b[1m1s\u001b[0m 6ms/step - accuracy: 0.7142 - loss: 0.6134 - val_accuracy: 0.8138 - val_loss: 0.4907\n",
      "Epoch 3/500\n",
      "\u001b[1m47/47\u001b[0m \u001b[32m━━━━━━━━━━━━━━━━━━━━\u001b[0m\u001b[37m\u001b[0m \u001b[1m0s\u001b[0m 6ms/step - accuracy: 0.7785 - loss: 0.4877 - val_accuracy: 0.8431 - val_loss: 0.3825\n",
      "Epoch 4/500\n",
      "\u001b[1m47/47\u001b[0m \u001b[32m━━━━━━━━━━━━━━━━━━━━\u001b[0m\u001b[37m\u001b[0m \u001b[1m1s\u001b[0m 4ms/step - accuracy: 0.8183 - loss: 0.4046 - val_accuracy: 0.8590 - val_loss: 0.3370\n",
      "Epoch 5/500\n",
      "\u001b[1m47/47\u001b[0m \u001b[32m━━━━━━━━━━━━━━━━━━━━\u001b[0m\u001b[37m\u001b[0m \u001b[1m0s\u001b[0m 7ms/step - accuracy: 0.8523 - loss: 0.3445 - val_accuracy: 0.8644 - val_loss: 0.2611\n",
      "Epoch 6/500\n",
      "\u001b[1m47/47\u001b[0m \u001b[32m━━━━━━━━━━━━━━━━━━━━\u001b[0m\u001b[37m\u001b[0m \u001b[1m1s\u001b[0m 11ms/step - accuracy: 0.8487 - loss: 0.3287 - val_accuracy: 0.8830 - val_loss: 0.2473\n",
      "Epoch 7/500\n",
      "\u001b[1m47/47\u001b[0m \u001b[32m━━━━━━━━━━━━━━━━━━━━\u001b[0m\u001b[37m\u001b[0m \u001b[1m0s\u001b[0m 6ms/step - accuracy: 0.8795 - loss: 0.2941 - val_accuracy: 0.8936 - val_loss: 0.2202\n",
      "Epoch 8/500\n",
      "\u001b[1m47/47\u001b[0m \u001b[32m━━━━━━━━━━━━━━━━━━━━\u001b[0m\u001b[37m\u001b[0m \u001b[1m0s\u001b[0m 6ms/step - accuracy: 0.8812 - loss: 0.2546 - val_accuracy: 0.8963 - val_loss: 0.2127\n",
      "Epoch 9/500\n",
      "\u001b[1m47/47\u001b[0m \u001b[32m━━━━━━━━━━━━━━━━━━━━\u001b[0m\u001b[37m\u001b[0m \u001b[1m0s\u001b[0m 6ms/step - accuracy: 0.8871 - loss: 0.2538 - val_accuracy: 0.9016 - val_loss: 0.2146\n",
      "Epoch 10/500\n",
      "\u001b[1m47/47\u001b[0m \u001b[32m━━━━━━━━━━━━━━━━━━━━\u001b[0m\u001b[37m\u001b[0m \u001b[1m0s\u001b[0m 5ms/step - accuracy: 0.8460 - loss: 0.2777 - val_accuracy: 0.8856 - val_loss: 0.1989\n",
      "Epoch 11/500\n",
      "\u001b[1m47/47\u001b[0m \u001b[32m━━━━━━━━━━━━━━━━━━━━\u001b[0m\u001b[37m\u001b[0m \u001b[1m0s\u001b[0m 7ms/step - accuracy: 0.8964 - loss: 0.2238 - val_accuracy: 0.9016 - val_loss: 0.1981\n",
      "Epoch 12/500\n",
      "\u001b[1m47/47\u001b[0m \u001b[32m━━━━━━━━━━━━━━━━━━━━\u001b[0m\u001b[37m\u001b[0m \u001b[1m0s\u001b[0m 6ms/step - accuracy: 0.8674 - loss: 0.2598 - val_accuracy: 0.8936 - val_loss: 0.1889\n",
      "Epoch 13/500\n",
      "\u001b[1m47/47\u001b[0m \u001b[32m━━━━━━━━━━━━━━━━━━━━\u001b[0m\u001b[37m\u001b[0m \u001b[1m0s\u001b[0m 6ms/step - accuracy: 0.8990 - loss: 0.2186 - val_accuracy: 0.8777 - val_loss: 0.2390\n",
      "Epoch 14/500\n",
      "\u001b[1m47/47\u001b[0m \u001b[32m━━━━━━━━━━━━━━━━━━━━\u001b[0m\u001b[37m\u001b[0m \u001b[1m1s\u001b[0m 10ms/step - accuracy: 0.8826 - loss: 0.2606 - val_accuracy: 0.9016 - val_loss: 0.1795\n",
      "Epoch 15/500\n",
      "\u001b[1m47/47\u001b[0m \u001b[32m━━━━━━━━━━━━━━━━━━━━\u001b[0m\u001b[37m\u001b[0m \u001b[1m0s\u001b[0m 7ms/step - accuracy: 0.8873 - loss: 0.2324 - val_accuracy: 0.8936 - val_loss: 0.1829\n",
      "Epoch 16/500\n",
      "\u001b[1m47/47\u001b[0m \u001b[32m━━━━━━━━━━━━━━━━━━━━\u001b[0m\u001b[37m\u001b[0m \u001b[1m1s\u001b[0m 11ms/step - accuracy: 0.8973 - loss: 0.2168 - val_accuracy: 0.9176 - val_loss: 0.1791\n",
      "Epoch 17/500\n",
      "\u001b[1m47/47\u001b[0m \u001b[32m━━━━━━━━━━━━━━━━━━━━\u001b[0m\u001b[37m\u001b[0m \u001b[1m0s\u001b[0m 7ms/step - accuracy: 0.8865 - loss: 0.2203 - val_accuracy: 0.8856 - val_loss: 0.1955\n",
      "Epoch 18/500\n",
      "\u001b[1m47/47\u001b[0m \u001b[32m━━━━━━━━━━━━━━━━━━━━\u001b[0m\u001b[37m\u001b[0m \u001b[1m0s\u001b[0m 8ms/step - accuracy: 0.9068 - loss: 0.2140 - val_accuracy: 0.8910 - val_loss: 0.1857\n",
      "Epoch 19/500\n",
      "\u001b[1m47/47\u001b[0m \u001b[32m━━━━━━━━━━━━━━━━━━━━\u001b[0m\u001b[37m\u001b[0m \u001b[1m0s\u001b[0m 8ms/step - accuracy: 0.8994 - loss: 0.2036 - val_accuracy: 0.9016 - val_loss: 0.1939\n",
      "Epoch 20/500\n",
      "\u001b[1m47/47\u001b[0m \u001b[32m━━━━━━━━━━━━━━━━━━━━\u001b[0m\u001b[37m\u001b[0m \u001b[1m0s\u001b[0m 7ms/step - accuracy: 0.8865 - loss: 0.2056 - val_accuracy: 0.9096 - val_loss: 0.1764\n",
      "Epoch 21/500\n",
      "\u001b[1m47/47\u001b[0m \u001b[32m━━━━━━━━━━━━━━━━━━━━\u001b[0m\u001b[37m\u001b[0m \u001b[1m1s\u001b[0m 7ms/step - accuracy: 0.8898 - loss: 0.2069 - val_accuracy: 0.9016 - val_loss: 0.1706\n",
      "Epoch 22/500\n",
      "\u001b[1m47/47\u001b[0m \u001b[32m━━━━━━━━━━━━━━━━━━━━\u001b[0m\u001b[37m\u001b[0m \u001b[1m0s\u001b[0m 8ms/step - accuracy: 0.8996 - loss: 0.2126 - val_accuracy: 0.8989 - val_loss: 0.1877\n",
      "Epoch 23/500\n",
      "\u001b[1m47/47\u001b[0m \u001b[32m━━━━━━━━━━━━━━━━━━━━\u001b[0m\u001b[37m\u001b[0m \u001b[1m0s\u001b[0m 5ms/step - accuracy: 0.8987 - loss: 0.2091 - val_accuracy: 0.9122 - val_loss: 0.1801\n",
      "Epoch 24/500\n",
      "\u001b[1m47/47\u001b[0m \u001b[32m━━━━━━━━━━━━━━━━━━━━\u001b[0m\u001b[37m\u001b[0m \u001b[1m0s\u001b[0m 5ms/step - accuracy: 0.9010 - loss: 0.2062 - val_accuracy: 0.9149 - val_loss: 0.1766\n",
      "Epoch 25/500\n",
      "\u001b[1m47/47\u001b[0m \u001b[32m━━━━━━━━━━━━━━━━━━━━\u001b[0m\u001b[37m\u001b[0m \u001b[1m0s\u001b[0m 7ms/step - accuracy: 0.8889 - loss: 0.2133 - val_accuracy: 0.8910 - val_loss: 0.1830\n",
      "Epoch 26/500\n",
      "\u001b[1m47/47\u001b[0m \u001b[32m━━━━━━━━━━━━━━━━━━━━\u001b[0m\u001b[37m\u001b[0m \u001b[1m1s\u001b[0m 17ms/step - accuracy: 0.9019 - loss: 0.2103 - val_accuracy: 0.9122 - val_loss: 0.1707\n",
      "Epoch 27/500\n",
      "\u001b[1m47/47\u001b[0m \u001b[32m━━━━━━━━━━━━━━━━━━━━\u001b[0m\u001b[37m\u001b[0m \u001b[1m1s\u001b[0m 8ms/step - accuracy: 0.8934 - loss: 0.2059 - val_accuracy: 0.9229 - val_loss: 0.1741\n",
      "Epoch 28/500\n",
      "\u001b[1m47/47\u001b[0m \u001b[32m━━━━━━━━━━━━━━━━━━━━\u001b[0m\u001b[37m\u001b[0m \u001b[1m1s\u001b[0m 7ms/step - accuracy: 0.8885 - loss: 0.2508 - val_accuracy: 0.9016 - val_loss: 0.1763\n",
      "Epoch 29/500\n",
      "\u001b[1m47/47\u001b[0m \u001b[32m━━━━━━━━━━━━━━━━━━━━\u001b[0m\u001b[37m\u001b[0m \u001b[1m0s\u001b[0m 8ms/step - accuracy: 0.9111 - loss: 0.2060 - val_accuracy: 0.8963 - val_loss: 0.1683\n",
      "Epoch 30/500\n",
      "\u001b[1m47/47\u001b[0m \u001b[32m━━━━━━━━━━━━━━━━━━━━\u001b[0m\u001b[37m\u001b[0m \u001b[1m1s\u001b[0m 6ms/step - accuracy: 0.9082 - loss: 0.2128 - val_accuracy: 0.9043 - val_loss: 0.1703\n",
      "Epoch 31/500\n",
      "\u001b[1m47/47\u001b[0m \u001b[32m━━━━━━━━━━━━━━━━━━━━\u001b[0m\u001b[37m\u001b[0m \u001b[1m0s\u001b[0m 6ms/step - accuracy: 0.8879 - loss: 0.2046 - val_accuracy: 0.8883 - val_loss: 0.1810\n",
      "Epoch 32/500\n",
      "\u001b[1m47/47\u001b[0m \u001b[32m━━━━━━━━━━━━━━━━━━━━\u001b[0m\u001b[37m\u001b[0m \u001b[1m0s\u001b[0m 5ms/step - accuracy: 0.9109 - loss: 0.1931 - val_accuracy: 0.8989 - val_loss: 0.1739\n",
      "Epoch 33/500\n",
      "\u001b[1m47/47\u001b[0m \u001b[32m━━━━━━━━━━━━━━━━━━━━\u001b[0m\u001b[37m\u001b[0m \u001b[1m0s\u001b[0m 5ms/step - accuracy: 0.9044 - loss: 0.1974 - val_accuracy: 0.9202 - val_loss: 0.1639\n",
      "Epoch 34/500\n",
      "\u001b[1m47/47\u001b[0m \u001b[32m━━━━━━━━━━━━━━━━━━━━\u001b[0m\u001b[37m\u001b[0m \u001b[1m0s\u001b[0m 8ms/step - accuracy: 0.9209 - loss: 0.1897 - val_accuracy: 0.9016 - val_loss: 0.1745\n",
      "Epoch 35/500\n",
      "\u001b[1m47/47\u001b[0m \u001b[32m━━━━━━━━━━━━━━━━━━━━\u001b[0m\u001b[37m\u001b[0m \u001b[1m0s\u001b[0m 6ms/step - accuracy: 0.9101 - loss: 0.1752 - val_accuracy: 0.9096 - val_loss: 0.1761\n",
      "Epoch 36/500\n",
      "\u001b[1m47/47\u001b[0m \u001b[32m━━━━━━━━━━━━━━━━━━━━\u001b[0m\u001b[37m\u001b[0m \u001b[1m0s\u001b[0m 8ms/step - accuracy: 0.9072 - loss: 0.2042 - val_accuracy: 0.9176 - val_loss: 0.1679\n",
      "Epoch 37/500\n",
      "\u001b[1m47/47\u001b[0m \u001b[32m━━━━━━━━━━━━━━━━━━━━\u001b[0m\u001b[37m\u001b[0m \u001b[1m1s\u001b[0m 6ms/step - accuracy: 0.9113 - loss: 0.1926 - val_accuracy: 0.9202 - val_loss: 0.1686\n",
      "Epoch 38/500\n",
      "\u001b[1m47/47\u001b[0m \u001b[32m━━━━━━━━━━━━━━━━━━━━\u001b[0m\u001b[37m\u001b[0m \u001b[1m0s\u001b[0m 7ms/step - accuracy: 0.9101 - loss: 0.1892 - val_accuracy: 0.9122 - val_loss: 0.1749\n",
      "Epoch 39/500\n",
      "\u001b[1m47/47\u001b[0m \u001b[32m━━━━━━━━━━━━━━━━━━━━\u001b[0m\u001b[37m\u001b[0m \u001b[1m0s\u001b[0m 8ms/step - accuracy: 0.9019 - loss: 0.2193 - val_accuracy: 0.8777 - val_loss: 0.2013\n",
      "Epoch 40/500\n",
      "\u001b[1m47/47\u001b[0m \u001b[32m━━━━━━━━━━━━━━━━━━━━\u001b[0m\u001b[37m\u001b[0m \u001b[1m1s\u001b[0m 17ms/step - accuracy: 0.9093 - loss: 0.1979 - val_accuracy: 0.8936 - val_loss: 0.1775\n",
      "Epoch 41/500\n",
      "\u001b[1m47/47\u001b[0m \u001b[32m━━━━━━━━━━━━━━━━━━━━\u001b[0m\u001b[37m\u001b[0m \u001b[1m2s\u001b[0m 10ms/step - accuracy: 0.9063 - loss: 0.2046 - val_accuracy: 0.9176 - val_loss: 0.1718\n",
      "Epoch 42/500\n",
      "\u001b[1m47/47\u001b[0m \u001b[32m━━━━━━━━━━━━━━━━━━━━\u001b[0m\u001b[37m\u001b[0m \u001b[1m1s\u001b[0m 10ms/step - accuracy: 0.9116 - loss: 0.2078 - val_accuracy: 0.8697 - val_loss: 0.2044\n",
      "Epoch 43/500\n",
      "\u001b[1m47/47\u001b[0m \u001b[32m━━━━━━━━━━━━━━━━━━━━\u001b[0m\u001b[37m\u001b[0m \u001b[1m1s\u001b[0m 9ms/step - accuracy: 0.9114 - loss: 0.1987 - val_accuracy: 0.8883 - val_loss: 0.1825\n",
      "Epoch 44/500\n",
      "\u001b[1m47/47\u001b[0m \u001b[32m━━━━━━━━━━━━━━━━━━━━\u001b[0m\u001b[37m\u001b[0m \u001b[1m1s\u001b[0m 9ms/step - accuracy: 0.8946 - loss: 0.2254 - val_accuracy: 0.9096 - val_loss: 0.1728\n",
      "Epoch 45/500\n",
      "\u001b[1m47/47\u001b[0m \u001b[32m━━━━━━━━━━━━━━━━━━━━\u001b[0m\u001b[37m\u001b[0m \u001b[1m1s\u001b[0m 9ms/step - accuracy: 0.9071 - loss: 0.1862 - val_accuracy: 0.8883 - val_loss: 0.1871\n",
      "Epoch 46/500\n",
      "\u001b[1m47/47\u001b[0m \u001b[32m━━━━━━━━━━━━━━━━━━━━\u001b[0m\u001b[37m\u001b[0m \u001b[1m1s\u001b[0m 10ms/step - accuracy: 0.9180 - loss: 0.1836 - val_accuracy: 0.9016 - val_loss: 0.1786\n",
      "Epoch 47/500\n",
      "\u001b[1m47/47\u001b[0m \u001b[32m━━━━━━━━━━━━━━━━━━━━\u001b[0m\u001b[37m\u001b[0m \u001b[1m1s\u001b[0m 10ms/step - accuracy: 0.9162 - loss: 0.1974 - val_accuracy: 0.9149 - val_loss: 0.1662\n",
      "Epoch 48/500\n",
      "\u001b[1m47/47\u001b[0m \u001b[32m━━━━━━━━━━━━━━━━━━━━\u001b[0m\u001b[37m\u001b[0m \u001b[1m1s\u001b[0m 11ms/step - accuracy: 0.9093 - loss: 0.2021 - val_accuracy: 0.9096 - val_loss: 0.1810\n",
      "Epoch 49/500\n",
      "\u001b[1m47/47\u001b[0m \u001b[32m━━━━━━━━━━━━━━━━━━━━\u001b[0m\u001b[37m\u001b[0m \u001b[1m1s\u001b[0m 17ms/step - accuracy: 0.9112 - loss: 0.1861 - val_accuracy: 0.9149 - val_loss: 0.1705\n",
      "Epoch 50/500\n",
      "\u001b[1m47/47\u001b[0m \u001b[32m━━━━━━━━━━━━━━━━━━━━\u001b[0m\u001b[37m\u001b[0m \u001b[1m1s\u001b[0m 10ms/step - accuracy: 0.9061 - loss: 0.1944 - val_accuracy: 0.9043 - val_loss: 0.1677\n",
      "Epoch 51/500\n",
      "\u001b[1m47/47\u001b[0m \u001b[32m━━━━━━━━━━━━━━━━━━━━\u001b[0m\u001b[37m\u001b[0m \u001b[1m0s\u001b[0m 9ms/step - accuracy: 0.9199 - loss: 0.1847 - val_accuracy: 0.9069 - val_loss: 0.1792\n",
      "Epoch 52/500\n",
      "\u001b[1m47/47\u001b[0m \u001b[32m━━━━━━━━━━━━━━━━━━━━\u001b[0m\u001b[37m\u001b[0m \u001b[1m0s\u001b[0m 8ms/step - accuracy: 0.9286 - loss: 0.1833 - val_accuracy: 0.9229 - val_loss: 0.1695\n",
      "Epoch 53/500\n",
      "\u001b[1m47/47\u001b[0m \u001b[32m━━━━━━━━━━━━━━━━━━━━\u001b[0m\u001b[37m\u001b[0m \u001b[1m1s\u001b[0m 10ms/step - accuracy: 0.9228 - loss: 0.1713 - val_accuracy: 0.8883 - val_loss: 0.1859\n",
      "Epoch 54/500\n",
      "\u001b[1m47/47\u001b[0m \u001b[32m━━━━━━━━━━━━━━━━━━━━\u001b[0m\u001b[37m\u001b[0m \u001b[1m1s\u001b[0m 9ms/step - accuracy: 0.9168 - loss: 0.1899 - val_accuracy: 0.9069 - val_loss: 0.1650\n",
      "Epoch 55/500\n",
      "\u001b[1m47/47\u001b[0m \u001b[32m━━━━━━━━━━━━━━━━━━━━\u001b[0m\u001b[37m\u001b[0m \u001b[1m1s\u001b[0m 9ms/step - accuracy: 0.9275 - loss: 0.1815 - val_accuracy: 0.8910 - val_loss: 0.1811\n",
      "Epoch 56/500\n",
      "\u001b[1m47/47\u001b[0m \u001b[32m━━━━━━━━━━━━━━━━━━━━\u001b[0m\u001b[37m\u001b[0m \u001b[1m1s\u001b[0m 7ms/step - accuracy: 0.9177 - loss: 0.1744 - val_accuracy: 0.9122 - val_loss: 0.1770\n",
      "Epoch 57/500\n",
      "\u001b[1m47/47\u001b[0m \u001b[32m━━━━━━━━━━━━━━━━━━━━\u001b[0m\u001b[37m\u001b[0m \u001b[1m1s\u001b[0m 7ms/step - accuracy: 0.9150 - loss: 0.1949 - val_accuracy: 0.9096 - val_loss: 0.1737\n",
      "Epoch 58/500\n",
      "\u001b[1m47/47\u001b[0m \u001b[32m━━━━━━━━━━━━━━━━━━━━\u001b[0m\u001b[37m\u001b[0m \u001b[1m0s\u001b[0m 6ms/step - accuracy: 0.9197 - loss: 0.2035 - val_accuracy: 0.9229 - val_loss: 0.1660\n",
      "Epoch 58: early stopping\n"
     ]
    }
   ],
   "source": [
    "#define callback and start training\n",
    "es_callback = EarlyStopping(monitor=\"val_loss\", \n",
    "                            verbose=1, \n",
    "                            mode=\"min\", \n",
    "                            patience=25)\n",
    "\n",
    "history=model.fit(X_train, y_train, \n",
    "                  epochs=500, \n",
    "                  batch_size=32, \n",
    "                  validation_data=(X_test, y_test), \n",
    "                  verbose=1, \n",
    "                  callbacks=[es_callback])"
   ]
  },
  {
   "cell_type": "code",
   "execution_count": 30,
   "metadata": {},
   "outputs": [
    {
     "name": "stdout",
     "output_type": "stream",
     "text": [
      "\u001b[1m3/3\u001b[0m \u001b[32m━━━━━━━━━━━━━━━━━━━━\u001b[0m\u001b[37m\u001b[0m \u001b[1m0s\u001b[0m 7ms/step - accuracy: 0.9214 - loss: 0.1739 \n"
     ]
    }
   ],
   "source": [
    "val_loss, val_acc = model.evaluate(X_test, y_test, batch_size=128)"
   ]
  },
  {
   "cell_type": "code",
   "execution_count": 31,
   "metadata": {},
   "outputs": [
    {
     "data": {
      "image/png": "[encoded data removed]",
      "text/plain": [
       "<Figure size 1200x500 with 2 Axes>"
      ]
     },
     "metadata": {},
     "output_type": "display_data"
    }
   ],
   "source": [
    "def plot_history(history):\n",
    "    acc = history.history[\"accuracy\"]\n",
    "    loss = history.history[\"loss\"]\n",
    "    val_loss = history.history[\"val_loss\"]\n",
    "    val_accuracy = history.history[\"val_accuracy\"]\n",
    "    \n",
    "    x = range(1, len(acc) + 1)\n",
    "    \n",
    "    plt.figure(figsize=(12,5))\n",
    "    plt.subplot(1, 2, 1)\n",
    "    plt.plot(x, acc, \"b\", label=\"train\")\n",
    "    plt.plot(x, val_accuracy, \"r\", label=\"validation\")\n",
    "    plt.legend(loc=\"best\")\n",
    "    plt.xlabel(\"Epoch\")\n",
    "    plt.ylabel(\"Accuracy\")\n",
    "    plt.title(\"Model Accuracy\")\n",
    "    \n",
    "    plt.subplot(1, 2, 2)\n",
    "    plt.plot(x, loss, \"b\", label=\"train\")\n",
    "    plt.plot(x, val_loss, \"r\", label=\"validation\")\n",
    "    plt.legend(loc=\"best\")\n",
    "    plt.xlabel(\"Epoch\")\n",
    "    plt.ylabel(\"Loss\")\n",
    "    plt.title(\"Model Loss\")\n",
    "    \n",
    "    # plt.savefig(\"graph/HandPostureModelTrainingHistory1.png\")\n",
    "    \n",
    "plot_history(history)"
   ]
  },
  {
   "cell_type": "code",
   "execution_count": 32,
   "metadata": {},
   "outputs": [
    {
     "name": "stdout",
     "output_type": "stream",
     "text": [
      "\u001b[1m1/1\u001b[0m \u001b[32m━━━━━━━━━━━━━━━━━━━━\u001b[0m\u001b[37m\u001b[0m \u001b[1m1s\u001b[0m 515ms/step\n",
      "[9.9966013e-01 3.3982200e-04]\n",
      "0\n"
     ]
    }
   ],
   "source": [
    "\n",
    "res = model.predict(np.array([predict_val[0]]))\n",
    "print(np.squeeze(res))\n",
    "print(np.argmax(np.squeeze(res)))"
   ]
  },
  {
   "cell_type": "code",
   "execution_count": 33,
   "metadata": {},
   "outputs": [
    {
     "name": "stderr",
     "output_type": "stream",
     "text": [
      "WARNING:absl:You are saving your model as an HDF5 file via `model.save()` or `keras.saving.save_model(model)`. This file format is considered legacy. We recommend using instead the native Keras format, e.g. `model.save('my_model.keras')` or `keras.saving.save_model(model, 'my_model.keras')`. \n"
     ]
    }
   ],
   "source": [
    "model.save('proto_model_test_lstm.h5')"
   ]
  }
 ],
 "metadata": {
  "kernelspec": {
   "display_name": "MPLSTM_3.9",
   "language": "python",
   "name": "python3"
  },
  "language_info": {
   "codemirror_mode": {
    "name": "ipython",
    "version": 3
   },
   "file_extension": ".py",
   "mimetype": "text/x-python",
   "name": "python",
   "nbconvert_exporter": "python",
   "pygments_lexer": "ipython3",
   "version": "3.11.4"
  }
 },
 "nbformat": 4,
 "nbformat_minor": 2
}
